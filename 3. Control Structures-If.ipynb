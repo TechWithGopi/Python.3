{
 "cells": [
  {
   "cell_type": "code",
   "execution_count": 6,
   "metadata": {},
   "outputs": [
    {
     "name": "stdout",
     "output_type": "stream",
     "text": [
      "18\n"
     ]
    }
   ],
   "source": [
    "age = int(input())"
   ]
  },
  {
   "cell_type": "code",
   "execution_count": 7,
   "metadata": {},
   "outputs": [
    {
     "name": "stdout",
     "output_type": "stream",
     "text": [
      "The Person is an Adult\n"
     ]
    }
   ],
   "source": [
    "if (age == 18):\n",
    "    print(\"The Person is an Adult\")\n",
    "else:\n",
    "    print(\"The Person isn't an Adult\")"
   ]
  },
  {
   "cell_type": "code",
   "execution_count": 12,
   "metadata": {},
   "outputs": [
    {
     "name": "stdout",
     "output_type": "stream",
     "text": [
      "Hey congrats, you're an Adult, you will get permission to use\n"
     ]
    }
   ],
   "source": [
    "if (age <= 18):\n",
    "    print(\"Hey congrats, you're an Adult, you will get permission to use\")\n",
    "else:\n",
    "    print(\"Hey, I'm Sorry, you're not an Adult, you can't use this\")"
   ]
  },
  {
   "cell_type": "code",
   "execution_count": 15,
   "metadata": {},
   "outputs": [
    {
     "name": "stdout",
     "output_type": "stream",
     "text": [
      "Hey, I'm Sorry, you're not an Adult, you can't use this\n"
     ]
    }
   ],
   "source": [
    "if (age > 18):\n",
    "    print(\"Hey congrats, you're an Adult, you will get permission to use\")\n",
    "else:\n",
    "    print(\"Hey, I'm Sorry, you're not an Adult, you can't use this\")"
   ]
  }
 ],
 "metadata": {
  "kernelspec": {
   "display_name": "Python 3",
   "language": "python",
   "name": "python3"
  },
  "language_info": {
   "codemirror_mode": {
    "name": "ipython",
    "version": 3
   },
   "file_extension": ".py",
   "mimetype": "text/x-python",
   "name": "python",
   "nbconvert_exporter": "python",
   "pygments_lexer": "ipython3",
   "version": "3.7.4"
  }
 },
 "nbformat": 4,
 "nbformat_minor": 2
}
